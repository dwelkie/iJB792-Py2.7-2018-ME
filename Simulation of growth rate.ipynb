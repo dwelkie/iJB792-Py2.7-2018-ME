{
 "cells": [
  {
   "cell_type": "markdown",
   "metadata": {},
   "source": [
    "# Simulation of cells S. elongatus growth at low and high light\n",
    "\n",
    "\n",
    "## Supplementary dataset \n",
    "\n",
    "## \"Predicting the metabolic capabilities of Synechococcus elongatus PCC 7942 adapted to different light regimes\"\n",
    "\n",
    "### Broddrick, et. al. \n",
    "\n",
    "\n",
    "### Jared Broddrick\n",
    "### 10/10/18"
   ]
  },
  {
   "cell_type": "code",
   "execution_count": 1,
   "metadata": {},
   "outputs": [],
   "source": [
    "import pandas as pd\n",
    "import cobra\n",
    "import numpy as np\n",
    "import csv\n",
    "import cobra\n",
    "import xlrd\n",
    "import re\n",
    "import math as m\n",
    "from cobra.core.metabolite import elements_and_molecular_weights\n",
    "elements_and_molecular_weights['R']=0.0\n",
    "elements_and_molecular_weights['Z']=0.0\n",
    "import copy\n",
    "import matplotlib.pyplot as plt\n",
    "%matplotlib inline"
   ]
  },
  {
   "cell_type": "markdown",
   "metadata": {},
   "source": [
    "\n",
    "### 1) Load in the model"
   ]
  },
  {
   "cell_type": "code",
   "execution_count": 5,
   "metadata": {},
   "outputs": [],
   "source": [
    "# Load in the model\n",
    "model = cobra.io.load_json_model('iJB792.json')"
   ]
  },
  {
   "cell_type": "markdown",
   "metadata": {},
   "source": [
    "### 2) Constrain the media components\n",
    "##### Media: BG-11\n",
    "\n"
   ]
  },
  {
   "cell_type": "code",
   "execution_count": 15,
   "metadata": {},
   "outputs": [],
   "source": [
    "# Load the media composition\n",
    "EX_rxns = [m.id for m in model.reactions if m.id[0:3]=='EX_']\n",
    "for r in EX_rxns:\n",
    "    model.reactions.get_by_id(r).upper_bound = 1000.\n",
    "    model.reactions.get_by_id(r).lower_bound = 0.    \n",
    "\n",
    "\n",
    "EXrxn = ['EX_h2o_e','EX_o2_e','EX_co2_e','EX_cobalt2_e','EX_zn2_e','EX_so4_e','EX_ca2_e','EX_nh4_e','EX_mn2_e','EX_hco3_e','EX_mg2_e','EX_cu2_e','EX_k_e','EX_no3_e','EX_fe3_e','EX_mobd_e','EX_na1_e','EX_h_e','EX_pi_e']\n",
    "EXlb = [-1000,-1000,-1000,-1000,-1000,-1000,-1000,-1000,-1000,-1000,-1000,-1000,-1000,-1000,-1000,-1000,-1000,-1000,-1000]\n",
    "for i in range(len(EXrxn)):\n",
    "    rx = EXrxn[i]\n",
    "    model.reactions.get_by_id(rx).lower_bound = EXlb[i]"
   ]
  },
  {
   "cell_type": "markdown",
   "metadata": {},
   "source": [
    "### 3) Condition specific pigment values\n"
   ]
  },
  {
   "cell_type": "code",
   "execution_count": 16,
   "metadata": {},
   "outputs": [],
   "source": [
    "# ## Edit pigments\n",
    "\n",
    "# # High Light:\n",
    "# pigment_mass = {'hpdcn_c' :0.510,\n",
    "#                 'calxan_c' :0.153,\n",
    "#                 'caro_c' :0.102,\n",
    "#                 'nstxan_c' :0.051,\n",
    "#                 'phycy_c' :0.223,\n",
    "#                 'cholphya_c' :0.510,\n",
    "#                 'zeax_c' :0.204}\n",
    "\n",
    "\n",
    "#Low Light: \n",
    "pigment_mass = {'hpdcn_c' :0.473,\n",
    "                'calxan_c' :0.142,\n",
    "                'caro_c' :0.095,\n",
    "                'nstxan_c' :0.047,\n",
    "                'phycy_c' :0.332,\n",
    "                'cholphya_c' :0.473,\n",
    "                'zeax_c' :0.189}\n",
    "\n",
    "pigment_data = dict()\n",
    "\n",
    "for m,s in pigment_mass.iteritems():\n",
    "    met_obj = model.metabolites.get_by_id(m)\n",
    "    pigment_data[met_obj]=s\n",
    "    \n",
    "r = model.reactions.BM_PIGMENTS\n",
    "\n",
    "new_stoich = pigment_data\n",
    "\n",
    "# you now have a dictionary of new stoichs for your model\n",
    "for m,s in r.metabolites.iteritems():\n",
    "    stoich = s*-1\n",
    "    temp_dict = {m:stoich}\n",
    "    r.add_metabolites(temp_dict)\n",
    "r.add_metabolites(new_stoich)\n",
    "\n",
    "# Then get the total to equal 1 mg biomass DW\n",
    "total = 0\n",
    "for m,s in r.metabolites.iteritems():\n",
    "    gfw = model.metabolites.get_by_id(m.id).formula_weight\n",
    "    mass = gfw*s*-1\n",
    "    total = total+mass\n",
    "correction = total/1000 # this will get it to 1000 ug total mass\n",
    "\n",
    "# Then adjust the stoichiometry as appropriate\n",
    "for m,s in r.metabolites.iteritems(): # now change the stoich\n",
    "    to_add = s/correction-s\n",
    "    r.add_metabolites({m:to_add})\n",
    "\n",
    "# Finally build the biomass_c metabolite\n",
    "    imbal = r.check_mass_balance()\n",
    "    if 'charge' in imbal.keys():\n",
    "        met_charge = imbal['charge']*-1\n",
    "        del imbal['charge']\n",
    "    met_mass = 0\n",
    "    formula_string = ''\n",
    "    for e,v in imbal.iteritems():\n",
    "        if v > 1e-10 or v < -1e-10:\n",
    "            mass = elements_and_molecular_weights[e]\n",
    "            met_mass = met_mass+(mass*-1*v)\n",
    "            form_str = e+str(-1*v)\n",
    "            formula_string = formula_string + form_str\n",
    "\n",
    "met = model.metabolites.bm_pigm_c\n",
    "met.formula = formula_string\n",
    "met.charge = met_charge\n",
    "r.add_metabolites({met:1})\n",
    "\n",
    "model.repair()"
   ]
  },
  {
   "cell_type": "markdown",
   "metadata": {},
   "source": [
    "### 4) Condition specific biomass objective function"
   ]
  },
  {
   "cell_type": "code",
   "execution_count": 17,
   "metadata": {},
   "outputs": [],
   "source": [
    "# #HL BOF\n",
    "\n",
    "# bof_ratios = {'bm_carbs_c':0.10,\n",
    "#             'bm_dna_c':0.007,\n",
    "#             'bm_memlip_c':0.20,\n",
    "#             'bm_pigm_c':0.021,\n",
    "#             'bm_cofactors_c':0.012,\n",
    "#             'bm_pro_c':0.40,\n",
    "#             'bm_cw_c':0.070,\n",
    "#             'bm_rna_c':0.15}\n",
    "\n",
    "# # LL BOF\n",
    "bof_ratios = {'bm_carbs_c':0.10,\n",
    "            'bm_dna_c':0.007,\n",
    "            'bm_memlip_c':0.20,\n",
    "            'bm_pigm_c':0.021,\n",
    "            'bm_cofactors_c':0.012,\n",
    "            'bm_pro_c':0.45,\n",
    "            'bm_cw_c':0.070,\n",
    "            'bm_rna_c':0.15}\n",
    "\n",
    "bof_data = dict()\n",
    "\n",
    "for bofcmp,percent in bof_ratios.iteritems():\n",
    "    met_obj = model.metabolites.get_by_id(bofcmp)\n",
    "    bof_data[met_obj]=percent*-1\n",
    "    \n",
    "# copy the bof reaction\n",
    "r = model.reactions.BOF\n",
    "new_stoich = bof_data\n",
    "\n",
    "# you now have a dictionary of new stoichs for your model\n",
    "for m,s in r.metabolites.iteritems():\n",
    "    stoich = s*-1\n",
    "    temp_dict = {m:stoich}\n",
    "    r.add_metabolites(temp_dict)\n",
    "r.add_metabolites(new_stoich)\n",
    "\n",
    "# Then get the total to equal 1 mg biomass DW\n",
    "total = 0\n",
    "for m,s in r.metabolites.iteritems():\n",
    "    gfw = model.metabolites.get_by_id(m.id).formula_weight\n",
    "    mass = gfw*s*-1\n",
    "    total = total+mass\n",
    "correction = total/1000 # this will get it to 1000 ug total mass\n",
    "\n",
    "# Then adjust the stoichiometry as appropriate\n",
    "for m,s in r.metabolites.iteritems(): # now change the stoich\n",
    "    to_add = s/correction-s\n",
    "    r.add_metabolites({m:to_add})\n",
    "\n",
    "met1 = model.metabolites.atp_c\n",
    "met2 = model.metabolites.h2o_c\n",
    "met3 = model.metabolites.adp_c\n",
    "met4 = model.metabolites.h_c\n",
    "met5 = model.metabolites.pi_c\n",
    "\n",
    "r.add_metabolites({met1:-30,\n",
    "                  met2:-30,\n",
    "                  met3:30,\n",
    "                  met4:30,\n",
    "                  met5:30})\n",
    "\n",
    "\n",
    "model.repair()\n",
    "\n",
    "total_imbalance = 0.\n",
    "imbalance = model.reactions.BOF.check_mass_balance()\n",
    "for eles,vals in imbalance.iteritems():\n",
    "    if eles != 'charge':\n",
    "        gfw = elements_and_molecular_weights[eles]\n",
    "        tmp_mass = gfw*vals\n",
    "        total_imbalance = total_imbalance+tmp_mass"
   ]
  },
  {
   "cell_type": "markdown",
   "metadata": {},
   "source": [
    "### 5) Global Constraints\n",
    "\n",
    "#### Reactions to turn off:\n",
    "\n",
    "1) couple flux between transketolase and phophoketolase to make PDH essential\n",
    "\n",
    "2) make VPAMTr irreversible towards alanine, forces use of GLUSfx\n",
    "\n",
    "3) set transaldolase as irreversible towards e4p/f6p\n",
    "\n",
    "4) LDH_D irrev way from pyruvate\n",
    "\n",
    "5) CYOOum carries no flux\n",
    "\n",
    "6) transhydrogenase carries no flux"
   ]
  },
  {
   "cell_type": "code",
   "execution_count": 20,
   "metadata": {},
   "outputs": [
    {
     "name": "stdout",
     "output_type": "stream",
     "text": [
      "e4p_c + 0.4 pkcc + xu5p__D_c <=> f6p_c + g3p_c\n",
      "f6p_c + pi_c + 4.0 pkcc --> actp_c + e4p_c + h2o_c\n",
      "pi_c + 4.0 pkcc + xu5p__D_c --> actp_c + g3p_c + h2o_c\n",
      "DM_chla_qy2_c: chla_qy2*_c --> cholphya_c\n",
      "DM_chla_qy1_c: chla_qy1*_c --> cholphya_c\n"
     ]
    }
   ],
   "source": [
    "# Initial constraints \n",
    "\n",
    "#1) coupling constraint\n",
    "\n",
    "from cobra import Metabolite\n",
    "m1 = Metabolite(\n",
    "    'pkcc',\n",
    "    formula='',\n",
    "    name='Transketolase/Phosphoketolase coupling constraint',\n",
    "    compartment='c')\n",
    "\n",
    "m1._constraint_sense = 'G'\n",
    "\n",
    "\n",
    "reaction = model.reactions.TKT2\n",
    "reaction.add_metabolites({m1:-0.10})\n",
    "print reaction.reaction\n",
    "\n",
    "reaction = model.reactions.PKETF\n",
    "reaction.add_metabolites({m1:-1.})\n",
    "print reaction.reaction\n",
    "\n",
    "reaction = model.reactions.PKETX\n",
    "reaction.add_metabolites({m1:-1.})\n",
    "print reaction.reaction\n",
    "\n",
    "# Add demand so it can use 0 PK if desired\n",
    "reaction = model.reactions.DM_ac_c.copy()\n",
    "reaction.id = 'DM_pkcc_c'\n",
    "reaction.name = 'Demand Reaction: Phosphoketolase constraint'\n",
    "m1 = model.metabolites.ac_c\n",
    "m2 = model.metabolites.pkcc\n",
    "\n",
    "reaction.add_metabolites({m1:1,\n",
    "                         m2:-1})\n",
    "\n",
    "model.add_reaction(reaction)\n",
    "model.repair()\n",
    "\n",
    "\n",
    "#2) VPAMTr\n",
    "\n",
    "model.reactions.VPAMTr.upper_bound = 0.\n",
    "model.reactions.VPAMTr.lower_bound = -1000.\n",
    "\n",
    "#3) TALA lb = 0\n",
    "\n",
    "model.reactions.TALA.lower_bound = 0.\n",
    "\n",
    "#4) LDH ub = 0\n",
    "\n",
    "model.reactions.LDH_D.upper_bound = 0.\n",
    "\n",
    "\n",
    "#5/6) Turn off reactions that cause biologically unrealistic constraints\n",
    "\n",
    "rxn =  ['CYOOum','NADTRHD']\n",
    "for i in range(len(rxn)):\n",
    "    rx = rxn[i]\n",
    "    model.reactions.get_by_id(rx).lower_bound = 0\n",
    "    model.reactions.get_by_id(rx).upper_bound = 0\n",
    "\n",
    "\n",
    "# Changing the bounds to umol instead of mmol\n",
    "\n",
    "for r in model.reactions:\n",
    "    r.lower_bound = r.lower_bound*1000.\n",
    "    r.upper_bound = r.upper_bound*1000.\n",
    "    \n",
    "    \n",
    "######################\n",
    "# Non-photochemical loss of photons\n",
    "reaction = model.reactions.DM_pho_loss_c.copy()\n",
    "reaction.id = 'DM_chla_qy2_c'\n",
    "reaction.name = 'Demand Reaction: excitation energy at PSII'\n",
    "m1 = model.metabolites.pho_loss_c\n",
    "m2 = model.metabolites.get_by_id('chla_qy2*_c')\n",
    "m3 = model.metabolites.cholphya_c\n",
    "\n",
    "reaction.add_metabolites({m1:1,\n",
    "                         m2:-1,\n",
    "                          m3:1.})\n",
    "reaction.upper_bound = 0.\n",
    "print reaction\n",
    "model.add_reaction(reaction)\n",
    "model.repair()\n",
    "    \n",
    "# Non-photochemical loss of photons\n",
    "reaction = model.reactions.DM_pho_loss_c.copy()\n",
    "reaction.id = 'DM_chla_qy1_c'\n",
    "reaction.name = 'Demand Reaction: excitation energy at PSI'\n",
    "m1 = model.metabolites.pho_loss_c\n",
    "m2 = model.metabolites.get_by_id('chla_qy1*_c')\n",
    "\n",
    "reaction.add_metabolites({m1:1,\n",
    "                         m2:-1,\n",
    "                          m3:1.})\n",
    "reaction.upper_bound = 0.\n",
    "print reaction\n",
    "model.add_reaction(reaction)\n",
    "model.repair()\n",
    "\n",
    "\n",
    "model.reactions.GLXO3r.lower_bound = 0."
   ]
  },
  {
   "cell_type": "markdown",
   "metadata": {},
   "source": [
    "### 6) Photon constraints\n",
    "\n",
    "Read in the absorbance coefficients in units of cm2/cell\n",
    "\n",
    "Select one of the following\n",
    "\n",
    "LL : low light mean values \n",
    "\n",
    "LL_UB: low light mean +1 SD\n",
    "\n",
    "LL_LB: low light mean -1 SD\n",
    "\n",
    "HL : low light mean values \n",
    "\n",
    "HL_UB: low light mean +1 SD\n",
    "\n",
    "HL_LB: low light mean -1 SD"
   ]
  },
  {
   "cell_type": "code",
   "execution_count": 22,
   "metadata": {},
   "outputs": [],
   "source": [
    "# Photon constraints\n",
    "# read in the a* values NOTE** Units are cm2/cell\n",
    "a_star = pd.read_csv('se_a_star.csv',index_col=0,header=0)\n",
    "a_star = a_star['LL_UB'] # Choose HL or LL\n",
    "# read in the cool white lamp spectral density\n",
    "rel = pd.read_csv('fluor_lamp.csv',header=0)\n"
   ]
  },
  {
   "cell_type": "markdown",
   "metadata": {},
   "source": [
    "### 5) Define simulation parameters\n",
    "\n",
    "# Units time = minutes, mass = mg, amount = umol\n",
    "\n",
    "#### Time interval: 20 min \n",
    "\n",
    "#### Number of slices for the path length light attenuation: 50\n",
    "\n",
    "#### Culture dimensions: 5 cm deep, 375 mL total volume\n",
    "\n",
    "#### Surface area = 80 cm2"
   ]
  },
  {
   "cell_type": "code",
   "execution_count": 23,
   "metadata": {},
   "outputs": [
    {
     "name": "stdout",
     "output_type": "stream",
     "text": [
      "PSIICRum: p680*_um + 1.73472347598e-18 ps2d1*_um --> p680_um + 1.73472347598e-18 ps2d1_um\n"
     ]
    }
   ],
   "source": [
    "# Reduce the penalty of PSII charge recombination to 0.5% of the flux results in D1 damage\n",
    "\n",
    "rxn = model.reactions.PSIICRum\n",
    "m1 = model.metabolites.ps2d1_um\n",
    "m2 = model.metabolites.get_by_id('ps2d1*_um')\n",
    "\n",
    "rxn.add_metabolites({m1:0.005,\n",
    "                    m2:-0.005})\n",
    "print rxn\n"
   ]
  },
  {
   "cell_type": "code",
   "execution_count": 24,
   "metadata": {},
   "outputs": [],
   "source": [
    "# Initialize all initial conditions, output variables and storage pools\n",
    "# mgCell = 0.8/1e9 # mgDW per cell <-- HL 1.0 +/- 0.2\n",
    "mgCell = 1.1/1e9 # mgDW per cell <-- LL 1.3 +/- 0.2\n",
    "\n",
    "innoc = 2.0e7*375. # cells/mL * total mL\n",
    "iDW = mgCell*innoc # initial culture biomass\n",
    "\n",
    "### Cell count is mgDW/mgCEll\n",
    "\n",
    "xsec = 80. #culture cross sectional area in cm2\n",
    "slices = 50  # number of slices\n",
    "vol = 100./slices      # percent volume of each vertical slice\n",
    "rv = vol/100. # fractional volume of each slice\n",
    "\n",
    "\n",
    "# Changing the bounds to umol instead of mmol\n",
    "\n",
    "for r in model.reactions:\n",
    "    r.lower_bound = r.lower_bound*1000.\n",
    "    r.upper_bound = r.upper_bound*1000."
   ]
  },
  {
   "cell_type": "code",
   "execution_count": 25,
   "metadata": {
    "scrolled": true
   },
   "outputs": [],
   "source": [
    "## Initialize all the parameters and data collectors for the simulation\n",
    "\n",
    "# Simulate biomass accumulation\n",
    "time_interval = 20\n",
    "\n",
    "gDW = iDW\n",
    "cells = (gDW/mgCell)\n",
    "\n",
    "#______________________________________________Tnitialize variables to collect output data___________________________________\n",
    "# Initialize an unused photon count\n",
    "photon_usage = pd.DataFrame(data=[0,0],index = ['Delivered','Absorbed'],columns=['0'])\n",
    "\n",
    "biomass = pd.DataFrame(data=[gDW,cells],index = ['Biomass','Cells'],columns=['0']) # add it up at the end of each simulation\n",
    "\n",
    "# Initialize an O2 evolution rate tracker\n",
    "o2_check = pd.DataFrame(data=[0],index = ['Max oxygen evolution'],columns=['0'])\n"
   ]
  },
  {
   "cell_type": "code",
   "execution_count": 26,
   "metadata": {
    "scrolled": true
   },
   "outputs": [
    {
     "name": "stderr",
     "output_type": "stream",
     "text": [
      "/Users/davidwelkie/anaconda3/envs/cobrapy2.7/lib/python2.7/site-packages/ipykernel_launcher.py:156 \u001b[1;31mSettingWithCopyWarning\u001b[0m: \n",
      "A value is trying to be set on a copy of a slice from a DataFrame\n",
      "\n",
      "See the caveats in the documentation: http://pandas.pydata.org/pandas-docs/stable/indexing.html#indexing-view-versus-copy\n"
     ]
    }
   ],
   "source": [
    "# Simulate over the time interval\n",
    "for t in range(time_interval,720+time_interval,time_interval): #One simulation every hour from t=0 to t=9 days (216 hrs)\n",
    "    import math as m\n",
    "    \n",
    "    interval_bm = 0 #initializes the total biomass\n",
    "    photon_count = 0\n",
    "    atten = np.zeros(len(a_star)) #captures light attenuation\n",
    "\n",
    "    tmp_o2_evo = 0\n",
    "\n",
    "    gDW = biomass[str(t-time_interval)]['Biomass'] #mg DW\n",
    "    cells = (gDW/mgCell)\n",
    "    \n",
    "#O2 rate equation High Light              <----- LL vs HL\n",
    "    # input: umol photons cell-1 s-1\n",
    "    # Output: umol O2 cell-1 s-1\n",
    "    #HL\n",
    "#     Ps = 1.10e-12 # umol O2 cell-1 s-1\n",
    "#     alpha = 2.20e-2\n",
    "#     beta = 6.0e-4\n",
    "#     resp = 1.14E-13\n",
    "    \n",
    "#     #     ##HL UB\n",
    "#     Ps = 1.17e-12 # umol O2 cell-1 s-1\n",
    "#     alpha = 2.15e-2\n",
    "#     beta = 4.4e-4\n",
    "#     resp = 0.938E-13\n",
    "    \n",
    "#     #     ##HL LB\n",
    "#     Ps = 1.00e-12 # umol O2 cell-1 s-1\n",
    "#     alpha = 2.26e-2\n",
    "#     beta = 7.8e-4\n",
    "#     resp = 1.35E-13\n",
    "    \n",
    "####################################################\n",
    "    \n",
    "#     # LL\n",
    "#     Ps = 1.44e-12 # umol O2 cell-1 s-1\n",
    "#     alpha = 4.27e-2\n",
    "#     beta = 3.5e-3\n",
    "#     resp = 5.36E-14\n",
    "    \n",
    "    # LL UB\n",
    "    Ps = 1.65e-12 # umol O2 cell-1 s-1\n",
    "    alpha = 4.62e-2\n",
    "    beta = 4.1e-3\n",
    "    resp = 4.71E-14\n",
    "    \n",
    "#     # LL LB\n",
    "#     Ps = 1.24e-12 # umol O2 cell-1 s-1\n",
    "#     alpha = 3.95e-2\n",
    "#     beta = 2.82e-3\n",
    "#     resp = 6.02E-14\n",
    "    \n",
    "    \n",
    "    # Calculate photons and O2 uptake\n",
    "#     irrad =  600. #uE \n",
    "    irrad = 60.                            # <----- LL vs HL\n",
    "\n",
    "    # Photon_flux is the initial amount of light delivered to the culture at each wavelength from 400-700 nm\n",
    "    photon_flux = (rel['rel_height'].values)*irrad*xsec/10000*time_interval*60. #umol/(m2*s) * cm2 * 1m2/10000cm2 * 60s/min * min = umol photons/time interval\n",
    "    total_photons = sum(photon_flux)\n",
    "    photon_usage[str(t)]=[total_photons,0]\n",
    "\n",
    "    ngam = resp*60.*time_interval*cells\n",
    "    model.reactions.NGAM.lower_bound = ngam\n",
    "\n",
    "    total_absorbed = 0.\n",
    "    ti_o2 = 0.\n",
    "    \n",
    "    \n",
    "    # Variable to collect the photons absorbed\n",
    "    lmba_placeholder = np.zeros(15) # one bin per photon bin  \n",
    "\n",
    "    interval_bins =  pd.DataFrame(data=lmba_placeholder,index =['410','430','450','470','490','510',\n",
    "                                                            '530','550','570','590','610','630','650',\n",
    "                                                                '670','690'], columns=['Photons'])\n",
    "\n",
    "    for s in range(slices):\n",
    "\n",
    "        # First get delivered photons\n",
    "        delivered_photons = photon_flux\n",
    "\n",
    "        # Variable to collect the photons absorbed\n",
    "        slice_abs = 0.\n",
    "        slice_o2 = 0. \n",
    "        for nm in range(len(photon_flux)):\n",
    "            # Assign the bin\n",
    "            a_nm = 400+nm\n",
    "            if a_nm in range(400,420):\n",
    "                nm_bin = '410'\n",
    "            if a_nm in range(420,440):\n",
    "                nm_bin = '430'\n",
    "            if a_nm in range(440,460):\n",
    "                nm_bin = '450'\n",
    "            if a_nm in range(460,480):\n",
    "                nm_bin = '470'\n",
    "            if a_nm in range(480,500):\n",
    "                nm_bin = '490'\n",
    "            if a_nm in range(500,520):\n",
    "                nm_bin = '510'\n",
    "            if a_nm in range(520,540):\n",
    "                nm_bin = '530'\n",
    "            if a_nm in range(540,560):\n",
    "                nm_bin = '550'\n",
    "            if a_nm in range(560,580):\n",
    "                nm_bin = '570'\n",
    "            if a_nm in range(580,600):\n",
    "                nm_bin = '590'\n",
    "            if a_nm in range(600,620):\n",
    "                nm_bin = '610'\n",
    "            if a_nm in range(620,640):\n",
    "                nm_bin = '630'\n",
    "            if a_nm in range(640,660):\n",
    "                nm_bin = '650'\n",
    "            if a_nm in range(660,680):\n",
    "                nm_bin = '670'\n",
    "            if a_nm in range(680,701):\n",
    "                nm_bin = '690'\n",
    "\n",
    "            # calculate the absorbed photons\n",
    "            abs_coeff = a_star[400+nm]              # a* value for the given nm (cm2/cell)\n",
    "            nm_delivered = delivered_photons[nm]    # incident photon flux at this nm at this slice (umol_photon/time_interval)\n",
    "            nm_abs = nm_delivered*abs_coeff*(cells*rv)/xsec # photons absorbed at this nm at this slice(umol/TI * cm2/cell * cell *cm-2)\n",
    "\n",
    "            if nm_abs > nm_delivered:\n",
    "                nm_abs = nm_delivered\n",
    "            \n",
    "            # Update the photon_flux variable at this wavelength\n",
    "            new_delivered = nm_delivered - nm_abs\n",
    "            if new_delivered >= 0:\n",
    "                photon_flux[nm] = new_delivered\n",
    "            else:\n",
    "                photon_flux[nm] = 0.\n",
    "\n",
    "            # Append the running photon absorption\n",
    "            slice_abs = slice_abs + nm_abs\n",
    "\n",
    "            # Append the appropriate bin\n",
    "            interval_bins.at[nm_bin,'Photons'] = interval_bins['Photons'][nm_bin] + nm_abs\n",
    "\n",
    "\n",
    "        # Update the variables that will constrain photon flux\n",
    "        total_absorbed = total_absorbed+slice_abs\n",
    "\n",
    "        conv_abs = slice_abs/time_interval/60./(cells*rv) # converts abs to O2 evo curve units  umol/TI * TI/min * min/s * 1/cells => umol/(mgchla*s)\n",
    "        slice_o2 = (Ps*(1-m.exp(-1*alpha*conv_abs/Ps))*(m.exp(-1*beta*conv_abs/Ps)))-resp #umol O2 cell-1 s-1\n",
    "\n",
    "        ti_o2 = ti_o2+(slice_o2*(rv*cells)*60.*time_interval) #umol O2 cell-1 s-1 * cells * s/min * min/TI = umol O2/TI\n",
    "\n",
    "    o2_check[str(t)]=ti_o2\n",
    "\n",
    "    o2evo = ti_o2\n",
    "    model.reactions.EX_o2_e.upper_bound = o2evo\n",
    "    model.reactions.EX_o2_e.lower_bound = o2evo*0.999\n",
    "    photon_usage[str(t)]['Absorbed']=total_absorbed\n",
    "\n",
    "    # ________________________________Time point constraints_________________________________________#\n",
    "\n",
    "    #Photon constraints\n",
    "    \n",
    "    ex_photon = ['EX_photon410_e', 'EX_photon430_e', 'EX_photon450_e', 'EX_photon470_e', 'EX_photon490_e',\n",
    "                 'EX_photon510_e', 'EX_photon530_e', 'EX_photon550_e', 'EX_photon570_e', 'EX_photon590_e', \n",
    "                 'EX_photon610_e', 'EX_photon630_e', 'EX_photon650_e', 'EX_photon670_e', 'EX_photon690_e']\n",
    "\n",
    "    for bin_ids in interval_bins.index:\n",
    "        exch_rxn = [rxn_item for rxn_item in ex_photon if bin_ids in rxn_item]\n",
    "        model.reactions.get_by_id(exch_rxn[0]).lower_bound = -1*interval_bins[interval_bins.index==bin_ids]['Photons'].values[0]\n",
    "        model.reactions.get_by_id(exch_rxn[0]).upper_bound = -0.9999*interval_bins[interval_bins.index==bin_ids]['Photons'].values[0]\n",
    "\n",
    "    model.reactions.DM_pho_loss_c.upper_bound = 10000. # allows loss of photons upstream of PSI/PSII based on energy transport efficiencies\n",
    "    ### Optional - allows dissipation of excess photons beyond energy transport efficiencies\n",
    "    # If set to 0: constrained model- requires intracellular AET to consume excess excitation energy\n",
    "    # To run unconstrained model simulations (calculate the minimum e- for growth/maintenance) set to 10000.\n",
    "    model.reactions.DM_chla_qy1_c.upper_bound = 0.\n",
    "    model.reactions.DM_chla_qy2_c.upper_bound = 0.\n",
    "\n",
    "\n",
    "    ###__________________________________OBJECTIVE FUNCTION____________________________________###\n",
    "\n",
    "    model.objective = 'BOF'\n",
    "    solution = cobra.flux_analysis.parsimonious.optimize_minimal_flux(model)\n",
    "   \n",
    "    if solution.status == 'optimal':\n",
    "            obj_rxn = model.reactions.BOF\n",
    "\n",
    "            biomass[str(t)]=(gDW+obj_rxn.x,(gDW+obj_rxn.x)/(mgCell))\n"
   ]
  },
  {
   "cell_type": "code",
   "execution_count": 27,
   "metadata": {},
   "outputs": [
    {
     "data": {
      "text/plain": [
       "0.04382841930780346"
      ]
     },
     "execution_count": 27,
     "metadata": {},
     "output_type": "execute_result"
    }
   ],
   "source": [
    "mu = np.log(biomass['720']['Cells']/biomass['0']['Cells'])/(720/60)\n",
    "mu"
   ]
  },
  {
   "cell_type": "code",
   "execution_count": 28,
   "metadata": {
    "scrolled": false
   },
   "outputs": [
    {
     "data": {
      "text/plain": [
       "<matplotlib.axes._subplots.AxesSubplot at 0x1245c0050>"
      ]
     },
     "execution_count": 28,
     "metadata": {},
     "output_type": "execute_result"
    },
    {
     "data": {
      "image/png": "[encoded data removed]",
      "text/plain": [
       "<Figure size 432x288 with 1 Axes>"
      ]
     },
     "metadata": {
      "needs_background": "light"
     },
     "output_type": "display_data"
    }
   ],
   "source": [
    "ax_val = plt.axes()\n",
    "ax_val.set_xlabel('Time (min)')\n",
    "ax_val.set_ylabel('Total cells')\n",
    "biomass.loc['Cells',:].plot(ax=ax_val,title='Cell count')"
   ]
  },
  {
   "cell_type": "code",
   "execution_count": 29,
   "metadata": {},
   "outputs": [
    {
     "data": {
      "text/plain": [
       "<matplotlib.axes._subplots.AxesSubplot at 0x123a96c10>"
      ]
     },
     "execution_count": 29,
     "metadata": {},
     "output_type": "execute_result"
    },
    {
     "data": {
      "image/png": "[encoded data removed]",
      "text/plain": [
       "<Figure size 432x288 with 1 Axes>"
      ]
     },
     "metadata": {
      "needs_background": "light"
     },
     "output_type": "display_data"
    }
   ],
   "source": [
    "ax_val = plt.axes()\n",
    "ax_val.set_xlabel('Time (min)')\n",
    "ax_val.set_ylabel('O2 evolution (umol/TI)')\n",
    "o2_check.loc['Max oxygen evolution',:].plot(ax=ax_val,title='Oxygen Evolution')"
   ]
  },
  {
   "cell_type": "code",
   "execution_count": 30,
   "metadata": {},
   "outputs": [
    {
     "data": {
      "text/plain": [
       "<matplotlib.axes._subplots.AxesSubplot at 0x123acff50>"
      ]
     },
     "execution_count": 30,
     "metadata": {},
     "output_type": "execute_result"
    },
    {
     "data": {
      "image/png": "[encoded data removed]",
      "text/plain": [
       "<Figure size 432x288 with 1 Axes>"
      ]
     },
     "metadata": {
      "needs_background": "light"
     },
     "output_type": "display_data"
    }
   ],
   "source": [
    "ax_val = plt.axes()\n",
    "ax_val.set_xlabel('Time (min)')\n",
    "ax_val.set_ylabel('Photons absorbed (umol/TI)')\n",
    "photon_usage.loc['Absorbed',:].plot(ax=ax_val,title='Photon Uptake')"
   ]
  },
  {
   "cell_type": "code",
   "execution_count": null,
   "metadata": {},
   "outputs": [],
   "source": []
  }
 ],
 "metadata": {
  "kernelspec": {
   "display_name": "Python 2",
   "language": "python",
   "name": "python2"
  },
  "language_info": {
   "codemirror_mode": {
    "name": "ipython",
    "version": 2
   },
   "file_extension": ".py",
   "mimetype": "text/x-python",
   "name": "python",
   "nbconvert_exporter": "python",
   "pygments_lexer": "ipython2",
   "version": "2.7.15"
  }
 },
 "nbformat": 4,
 "nbformat_minor": 1
}
